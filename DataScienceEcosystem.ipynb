{
 "cells": [
  {
   "cell_type": "markdown",
   "id": "b629d2f1-1122-4c3a-9afb-e595ac13a606",
   "metadata": {},
   "source": [
    "# Data Science Tools and Ecosystem"
   ]
  },
  {
   "cell_type": "markdown",
   "id": "223499bc-2a79-4ca5-882c-fea9bfd11c2b",
   "metadata": {},
   "source": [
    "In this notebook, Data Science Tools and Ecosystem are summarized."
   ]
  },
  {
   "cell_type": "markdown",
   "id": "b1409756-84e5-4270-a29a-790fd7996c28",
   "metadata": {},
   "source": [
    "**Objectives:** <br>\n",
    "* List popular languages for Data Science\n",
    "* List commonly used libraries for Data Science\n",
    "* Make a table with 3 Data Science Tools\n",
    "* Evaluate arithmetic expressions"
   ]
  },
  {
   "cell_type": "markdown",
   "id": "545ca6a2-7fe0-4a1e-93b0-1cac10d7a2e6",
   "metadata": {},
   "source": [
    "Some of the popular languages that Data Scientists use are: <br>\n",
    "<ol>\n",
    "  <li>Python</li>\n",
    "  <li>SQL</li>\n",
    "  <li>R</li>\n",
    "  <li>Julia</li>\n",
    "</ol>"
   ]
  },
  {
   "cell_type": "markdown",
   "id": "1ff935ac-3914-4ee3-bc0a-9940a80e5c46",
   "metadata": {},
   "source": [
    "Some of the commonly used libraries used by Data Scientists include: <br>\n",
    "<ol>\n",
    "  <li>scikit-learn</li>\n",
    "  <li>TensorFlow</li>\n",
    "  <li>PyTorch</li>\n",
    "  <li>Pandas</li>\n",
    "</ol>"
   ]
  },
  {
   "cell_type": "markdown",
   "id": "4cde2149-2595-4f0d-98c9-4e71436112f2",
   "metadata": {},
   "source": [
    "| Data Science Tools |\n",
    "| --- |\n",
    "| RStudio |\n",
    "| Apache Spark |\n",
    "| Apache Hadoop |"
   ]
  },
  {
   "cell_type": "markdown",
   "id": "7e795675-f13e-4a69-8314-743a50925553",
   "metadata": {
    "tags": []
   },
   "source": [
    "### Below are a few examples of evaluating arithmetic expressions in Python.\n"
   ]
  },
  {
   "cell_type": "code",
   "execution_count": 1,
   "id": "d1cdf6c9-4d03-4859-a202-d61234c8f30f",
   "metadata": {},
   "outputs": [
    {
     "data": {
      "text/plain": [
       "17"
      ]
     },
     "execution_count": 1,
     "metadata": {},
     "output_type": "execute_result"
    }
   ],
   "source": [
    "# This a simple arithmetic expression to mutiply then add integers\n",
    "(3*4)+5"
   ]
  },
  {
   "cell_type": "code",
   "execution_count": 2,
   "id": "c5edad2c-9d4f-4688-ad0f-65d1c129bc6a",
   "metadata": {},
   "outputs": [
    {
     "data": {
      "text/plain": [
       "3.3333333333333335"
      ]
     },
     "execution_count": 2,
     "metadata": {},
     "output_type": "execute_result"
    }
   ],
   "source": [
    "# This will convert 200 minutes to hours by diving by 60\n",
    "200/60"
   ]
  },
  {
   "cell_type": "markdown",
   "id": "1b13a08f-c826-47da-a205-ab77e5e0be56",
   "metadata": {
    "tags": []
   },
   "source": [
    "## Author\n",
    "Fatima Ezzahra El habibi"
   ]
  }
 ],
 "metadata": {
  "kernelspec": {
   "display_name": "Python",
   "language": "python",
   "name": "conda-env-python-py"
  },
  "language_info": {
   "codemirror_mode": {
    "name": "ipython",
    "version": 3
   },
   "file_extension": ".py",
   "mimetype": "text/x-python",
   "name": "python",
   "nbconvert_exporter": "python",
   "pygments_lexer": "ipython3",
   "version": "3.7.12"
  }
 },
 "nbformat": 4,
 "nbformat_minor": 5
}
